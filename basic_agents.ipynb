{
 "cells": [
  {
   "cell_type": "code",
   "execution_count": 1,
   "metadata": {},
   "outputs": [],
   "source": [
    "# Agents in langchain are high-level components.\n",
    "#   They use LLMs to determine which actions to take and in what order\n",
    "# Tools are functions that perform specific actions.\n",
    "#   It can be a custom specific tool, google search, db lookup, python repl, etc\n",
    "# Types of agents:\n",
    "#   - ZERO_SHOT_REACT_DESCRIPTION: uses ReAct framework to decide the tool to use, \n",
    "#     based purely on tool's description\n",
    "#   - REACT_DOCSTORE: engages with a docstore using ReAct. Need TWO tools, Search and Lookup.\n",
    "#     The search finds a document and lookup search for a term in the most recent document.\n",
    "#   - SELF_ASK_WITH_SEARCH: uses a single tool called `Intermediate Answer`. It can give answers\n",
    "#     to factual responses. It is a self-ask but with a google search api, provided as a tool\n",
    "#   - CONVERSATIONAL_REACT_DESCRIPTION: design for conversational. It uses ReAct to select a tool\n",
    "#     but also can use memory to remember past conversation"
   ]
  },
  {
   "cell_type": "code",
   "execution_count": 5,
   "metadata": {},
   "outputs": [
    {
     "data": {
      "text/plain": [
       "True"
      ]
     },
     "execution_count": 5,
     "metadata": {},
     "output_type": "execute_result"
    }
   ],
   "source": [
    "from langchain_community.chat_models.openai import ChatOpenAI\n",
    "\n",
    "from langchain.agents import AgentType, load_tools, initialize_agent, Tool\n",
    "\n",
    "from langchain_community.utilities import GoogleSearchAPIWrapper\n",
    "\n",
    "import dotenv\n",
    "dotenv.load_dotenv()"
   ]
  },
  {
   "cell_type": "code",
   "execution_count": 6,
   "metadata": {},
   "outputs": [
    {
     "name": "stderr",
     "output_type": "stream",
     "text": [
      "/home/mileto/dev/lab/activeloop/venv/lib/python3.11/site-packages/langchain_core/_api/deprecation.py:117: LangChainDeprecationWarning: The class `langchain_community.chat_models.openai.ChatOpenAI` was deprecated in langchain-community 0.0.10 and will be removed in 0.2.0. An updated version of the class exists in the langchain-openai package and should be used instead. To use it run `pip install -U langchain-openai` and import as `from langchain_openai import ChatOpenAI`.\n",
      "  warn_deprecated(\n"
     ]
    }
   ],
   "source": [
    "# Initialize llm\n",
    "llm = ChatOpenAI(model='gpt-4-0125-preview', temperature=0)\n",
    "\n",
    "# Define google search wrapper\n",
    "search = GoogleSearchAPIWrapper()\n",
    "\n",
    "# Initialize the tool\n",
    "tools = [ \n",
    "  Tool(\n",
    "    name=\"Google search\",\n",
    "    description='Search google for recent results.',\n",
    "    func=search.run\n",
    "  ) \n",
    "]"
   ]
  },
  {
   "cell_type": "code",
   "execution_count": 8,
   "metadata": {},
   "outputs": [
    {
     "name": "stderr",
     "output_type": "stream",
     "text": [
      "/home/mileto/dev/lab/activeloop/venv/lib/python3.11/site-packages/langchain_core/_api/deprecation.py:117: LangChainDeprecationWarning: The function `initialize_agent` was deprecated in LangChain 0.1.0 and will be removed in 0.2.0. Use Use new agent constructor methods like create_react_agent, create_json_agent, create_structured_chat_agent, etc. instead.\n",
      "  warn_deprecated(\n"
     ]
    }
   ],
   "source": [
    "# create the agent, using max_iterations=6 that is a way of it to perform a x number of iterations before stopping, preventing it from\n",
    "# running indefinitely, in some cases.\n",
    "agent = initialize_agent(\n",
    "  tools,\n",
    "  llm,\n",
    "  agent=AgentType.ZERO_SHOT_REACT_DESCRIPTION,\n",
    "  max_iterations=6\n",
    ")"
   ]
  },
  {
   "cell_type": "code",
   "execution_count": null,
   "metadata": {},
   "outputs": [],
   "source": [
    "from IPython.display import Markdown\n",
    "response = agent(\"What is the latest news about Mars rover?\")\n",
    "Markdown(response['output'])"
   ]
  },
  {
   "cell_type": "code",
   "execution_count": null,
   "metadata": {},
   "outputs": [],
   "source": []
  },
  {
   "cell_type": "code",
   "execution_count": null,
   "metadata": {},
   "outputs": [],
   "source": []
  },
  {
   "cell_type": "code",
   "execution_count": null,
   "metadata": {},
   "outputs": [],
   "source": []
  },
  {
   "cell_type": "code",
   "execution_count": null,
   "metadata": {},
   "outputs": [],
   "source": []
  }
 ],
 "metadata": {
  "kernelspec": {
   "display_name": "venv",
   "language": "python",
   "name": "python3"
  },
  "language_info": {
   "codemirror_mode": {
    "name": "ipython",
    "version": 3
   },
   "file_extension": ".py",
   "mimetype": "text/x-python",
   "name": "python",
   "nbconvert_exporter": "python",
   "pygments_lexer": "ipython3",
   "version": "3.11.2"
  }
 },
 "nbformat": 4,
 "nbformat_minor": 2
}
