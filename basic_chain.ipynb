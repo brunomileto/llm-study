{
 "cells": [
  {
   "cell_type": "code",
   "execution_count": 13,
   "metadata": {},
   "outputs": [
    {
     "data": {
      "text/plain": [
       "True"
      ]
     },
     "execution_count": 13,
     "metadata": {},
     "output_type": "execute_result"
    }
   ],
   "source": [
    "from langchain.prompts import PromptTemplate\n",
    "from langchain.llms import OpenAI\n",
    "from langchain.chains import LLMChain\n",
    "from IPython.display import Markdown\n",
    "import dotenv\n",
    "\n",
    "dotenv.load_dotenv()"
   ]
  },
  {
   "cell_type": "code",
   "execution_count": null,
   "metadata": {},
   "outputs": [],
   "source": [
    "# LLLMChain takes multiple input variables\n",
    "# uses the template (prompt template in this case) to format the input variables into a prompt\n",
    "# passes the formatted prompt to the model\n",
    "# if an output parser is provided it uses the OutputParses to parse the output of the LLM into a final format\n",
    "llm = OpenAI(model_name='gpt-4-0125-preview', temperature=0.9)\n",
    "prompt = PromptTemplate(\n",
    "  input_variables=['service', 'context1', 'context2'],\n",
    "  template='What is a good name for a company that make services around {service}? Consider also, both contexts: {context1}, {context2}'\n",
    ")\n",
    "\n",
    "chain = LLMChain(llm=llm, prompt=prompt)\n",
    "\n",
    "# Run the chain only specifying the input variable\n",
    "response = chain.run({'service': 'ai software', \n",
    "                      'context1': 'goias brazilian state',\n",
    "                      'context2': ''})"
   ]
  },
  {
   "cell_type": "code",
   "execution_count": 14,
   "metadata": {},
   "outputs": [
    {
     "data": {
      "text/markdown": [
       "For a company based in Goiás, Brazil, that specializes in AI software services, choosing a name that reflects both the industry focus and the cultural or geographical identity can make the brand memorable and distinctive. Here are some suggestions:\n",
       "\n",
       "1. **CerradoAI Solutions**: The Cerrado is a vast tropical savanna ecoregion of Brazil, much of which is in Goiás. This name pays homage to the local environment while clearly indicating the focus on AI.\n",
       "\n",
       "2. **VerdeIntellect**: \"Verde\" means green in Portuguese, reflecting both the lush landscapes of Goiás and the idea of growth and innovation in the AI sector.\n",
       "\n",
       "3. **GoiásAI Innovations**: A straightforward name that combines the location with the company's focus. This is a clear and professional choice.\n",
       "\n",
       "4. **SertãoTech**: The term \"Sertão\" refers to the backcountry regions of Brazil, including parts of Goiás. This name suggests a pioneering spirit in the tech landscape.\n",
       "\n",
       "5. **TropicalLogic**: Reflecting the vibrant and dynamic ecosystem of Goiás, this name suggests a company that's at the forefront of developing intelligent AI solutions.\n",
       "\n",
       "6. **FuturoCerrado**: Combining \"Futuro\" (future) with Cerrado, this name positions the company as a forward-thinking leader in AI, rooted in the Goiás region.\n",
       "\n",
       "7. **BrasAIlia Tech**: A play on Brasília, the capital of Brazil situated near Goiás. This name suggests a central, authoritative presence in the Brazilian AI market.\n",
       "\n",
       "8. **AraraAI**: Named after the Arara, a colorful parrot that can be found in Brazil. This name is memorable, easy to pronounce, and reflects both the local wildlife and the innovation of AI technology.\n",
       "\n",
       "9. **SavanaSoft**: Another nod to the Cerrado, often referred to as the Brazilian savanna. This name mixes the local geography with the software nature of the business.\n",
       "\n",
       "10. **SolTech Inteligência Artificial**: Incorporating \"Sol\" (sun) to reflect the sunny climate of Goiás, and explicitly stating the company's focus with \"Inteligência Artificial\" (Artificial Intelligence in Portuguese), for a clear and sunny disposition towards the future of technology.\n",
       "\n",
       "Each of these names offers a unique way to stand out in the tech industry while honoring the company's roots in Goiás, Brazil. It's also important to check the availability of these names as domain names and within business registries to ensure they can be legally and effectively used."
      ],
      "text/plain": [
       "<IPython.core.display.Markdown object>"
      ]
     },
     "execution_count": 14,
     "metadata": {},
     "output_type": "execute_result"
    }
   ],
   "source": [
    "Markdown(response)"
   ]
  },
  {
   "cell_type": "code",
   "execution_count": null,
   "metadata": {},
   "outputs": [],
   "source": []
  },
  {
   "cell_type": "code",
   "execution_count": null,
   "metadata": {},
   "outputs": [],
   "source": []
  },
  {
   "cell_type": "code",
   "execution_count": null,
   "metadata": {},
   "outputs": [],
   "source": []
  },
  {
   "cell_type": "code",
   "execution_count": null,
   "metadata": {},
   "outputs": [],
   "source": []
  },
  {
   "cell_type": "code",
   "execution_count": null,
   "metadata": {},
   "outputs": [],
   "source": []
  },
  {
   "cell_type": "code",
   "execution_count": null,
   "metadata": {},
   "outputs": [],
   "source": []
  }
 ],
 "metadata": {
  "kernelspec": {
   "display_name": "venv",
   "language": "python",
   "name": "python3"
  },
  "language_info": {
   "codemirror_mode": {
    "name": "ipython",
    "version": 3
   },
   "file_extension": ".py",
   "mimetype": "text/x-python",
   "name": "python",
   "nbconvert_exporter": "python",
   "pygments_lexer": "ipython3",
   "version": "3.11.2"
  }
 },
 "nbformat": 4,
 "nbformat_minor": 2
}
