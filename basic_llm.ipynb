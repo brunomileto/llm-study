{
 "cells": [
  {
   "cell_type": "code",
   "execution_count": 15,
   "metadata": {},
   "outputs": [
    {
     "data": {
      "text/plain": [
       "True"
      ]
     },
     "execution_count": 15,
     "metadata": {},
     "output_type": "execute_result"
    }
   ],
   "source": [
    "from langchain.llms import OpenAI\n",
    "from IPython.display import display, Markdown\n",
    "import dotenv\n",
    "\n",
    "dotenv.load_dotenv()"
   ]
  },
  {
   "cell_type": "code",
   "execution_count": 11,
   "metadata": {},
   "outputs": [
    {
     "name": "stderr",
     "output_type": "stream",
     "text": [
      "/home/mileto/dev/lab/activeloop/venv/lib/python3.11/site-packages/langchain/llms/openai.py:179: UserWarning: You are trying to use a chat model. This way of initializing it is no longer supported. Instead, please use: `from langchain.chat_models import ChatOpenAI`\n",
      "  warnings.warn(\n",
      "/home/mileto/dev/lab/activeloop/venv/lib/python3.11/site-packages/langchain/llms/openai.py:753: UserWarning: You are trying to use a chat model. This way of initializing it is no longer supported. Instead, please use: `from langchain.chat_models import ChatOpenAI`\n",
      "  warnings.warn(\n"
     ]
    }
   ],
   "source": [
    "# temperature: Set 0 for outputs predetermined and suitable for tasks that require stability and the most probable result\n",
    "#              Set 1.0 and the output can be inconsistent and interesting but isn't generally advised for most tasks\n",
    "#              Set between 0.7 to 0.9 for creative tasks with balance of reliability\n",
    "llm = OpenAI(model_name='gpt-4-0125-preview', temperature=0.9)"
   ]
  },
  {
   "cell_type": "code",
   "execution_count": 5,
   "metadata": {},
   "outputs": [],
   "source": [
    "text = \"Suggest a personalized workout routine for someone looking to improve cardiovascular endurance and prefers outdoor activities.\""
   ]
  },
  {
   "cell_type": "code",
   "execution_count": 13,
   "metadata": {},
   "outputs": [],
   "source": [
    "response = llm(text)"
   ]
  },
  {
   "cell_type": "code",
   "execution_count": 16,
   "metadata": {},
   "outputs": [
    {
     "data": {
      "text/markdown": [
       "Creating a personalized workout routine for improving cardiovascular endurance through outdoor activities can be both enjoyable and effective. Considering preferences for outdoor exercises, here is a tailored weekly plan that aims to progressively build cardiovascular health, endurance, and overall fitness. Remember to start each workout with a 5-10 minute warm-up, such as brisk walking or light jogging, and conclude with a cool-down and stretching to prevent injuries.\n",
       "\n",
       "**Monday: Long Distance Running or Jogging**\n",
       "- Start with a comfortable distance that challenges you without overexertion. Aim for 30 minutes to an hour, depending on your current endurance level. Gradually increase the distance or time each week.\n",
       "\n",
       "**Tuesday: Cycling**\n",
       "- Hit the road or a cycle path for a moderate to vigorous bike ride. Aim for a 45-60 minute ride, focusing on maintaining a steady pace that elevates your heart rate. If possible, incorporate varied terrain to challenge different muscle groups.\n",
       "\n",
       "**Wednesday: Active Recovery**\n",
       "- Engage in a light activity such as a leisurely walk in a park, yoga, or a gentle stretching routine outdoors. This helps with muscle recovery and prepares you for upcoming intense workouts.\n",
       "\n",
       "**Thursday: Interval Training (Hill Sprints)**\n",
       "- Find a moderately steep hill and perform sprints up the hill for 30 seconds, followed by a 1-2 minute walk back down for recovery. Repeat for 15-20 minutes. Over time, you can increase the sprint duration, decrease recovery time, or add more repetitions.\n",
       "\n",
       "**Friday: Rest Day**\n",
       "- Allow your body to fully recover. Remember, rest days are crucial for improving performance and preventing injuries.\n",
       "\n",
       "**Saturday: Stair Climbing or Hiking**\n",
       "- Stair Climbing: Find outdoor stairs or stadium steps for a 30-45 minute workout. Alternate between running up the stairs and walking down for recovery.\n",
       "- Hiking: Choose a trail that matches your fitness level and gradually increase the difficulty or length of your hikes. Hiking for 1-2 hours on varied terrain is excellent for building endurance and strength.\n",
       "\n",
       "**Sunday: Cross-Training (Swimming or Rowing)**\n",
       "- If you have access to an outdoor pool or lake, swimming is an excellent low-impact exercise for building cardiovascular health. Aim for 30-60 minutes, adjusting the duration and intensity as you progress.\n",
       "- Alternatively, if you have access to a river or lake, consider rowing or canoeing for a similar duration. This not only improves cardiovascular fitness but also strengthens the upper body and core.\n",
       "\n",
       "**Additional Tips:**\n",
       "- Hydration is key, especially when exercising outdoors. Always carry water with you and drink regularly before, during, and after your workouts.\n",
       "- Invest in appropriate gear, such as supportive shoes for running and hiking, a quality bike for cycling, and waterproof clothing for swimming or rowing.\n",
       "- Monitor your progress by keeping a workout journal or using fitness apps to track your distance, time, and intensity. This can help you stay motivated and adjust your routine as needed.\n",
       "\n",
       "Remember, it's important to listen to your body and adjust the intensity and duration of workouts based on how you feel. Incremental improvement over time is the goal. Consultation with a fitness professional can also provide personalized advice tailored to your specific health conditions or fitness goals."
      ],
      "text/plain": [
       "<IPython.core.display.Markdown object>"
      ]
     },
     "execution_count": 16,
     "metadata": {},
     "output_type": "execute_result"
    }
   ],
   "source": [
    "Markdown(response)"
   ]
  },
  {
   "cell_type": "code",
   "execution_count": null,
   "metadata": {},
   "outputs": [],
   "source": []
  },
  {
   "cell_type": "code",
   "execution_count": null,
   "metadata": {},
   "outputs": [],
   "source": []
  },
  {
   "cell_type": "code",
   "execution_count": null,
   "metadata": {},
   "outputs": [],
   "source": []
  }
 ],
 "metadata": {
  "kernelspec": {
   "display_name": "venv",
   "language": "python",
   "name": "python3"
  },
  "language_info": {
   "codemirror_mode": {
    "name": "ipython",
    "version": 3
   },
   "file_extension": ".py",
   "mimetype": "text/x-python",
   "name": "python",
   "nbconvert_exporter": "python",
   "pygments_lexer": "ipython3",
   "version": "3.11.2"
  }
 },
 "nbformat": 4,
 "nbformat_minor": 2
}
